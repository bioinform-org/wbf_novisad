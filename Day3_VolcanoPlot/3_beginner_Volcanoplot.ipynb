{
  "nbformat": 4,
  "nbformat_minor": 0,
  "metadata": {
    "colab": {
      "provenance": []
    },
    "kernelspec": {
      "name": "python3",
      "display_name": "Python 3"
    },
    "language_info": {
      "name": "python"
    }
  },
  "cells": [
    {
      "cell_type": "markdown",
      "source": [
        "# **Identifying differentially expressed genes involved in Tetralogy of Fallot**\n",
        "\n",
        "Tetralogy of Fallot (TOF) is a congenital heart defect that affects the structure of the heart and its ability to pump blood to the body (1). TOF is one of the most common forms of congenital heart disease, accounting for around 10% of all cases (2). The condition is characterized by a combination of four abnormalities in the heart: a ventricular septal defect (VSD), narrowing of the pulmonary artery (pulmonary stenosis), an enlarged aorta that overrides the VSD, and right ventricular hypertrophy (thickening of the muscle in the right ventricle) (3). These abnormalities can cause oxygen-poor blood to be pumped to the body, resulting in symptoms such as cyanosis (bluish discoloration of the skin), shortness of breath, and fatigue. While TOF is a serious condition, advances in medical treatment have greatly improved the long-term outlook for those born with the defect (4).\n",
        "\n",
        "Locating differentially expressed genes can provide valuable insights into the underlying biological mechanisms of Tetralogy of Fallot (TOF) and help identify potential therapeutic targets. Differentially expressed genes are genes that are expressed at different levels between affected individuals and healthy controls. These genes can be identified using techniques such as microarray analysis or RNA sequencing. \n",
        "\n",
        "In today's assignment we will use a dataset from the EMBL-EBI's Expression Atlas to locate differentially expressed genes for TOF (5, 6). You will visualize your results with a volcano plot. Let's get started!"
      ],
      "metadata": {
        "id": "OIEWV-_h_cVt"
      }
    },
    {
      "cell_type": "markdown",
      "source": [
        "**First run the following code to import some libraries that we will need.**"
      ],
      "metadata": {
        "id": "n7qOrpyjxQbQ"
      }
    },
    {
      "cell_type": "code",
      "execution_count": null,
      "metadata": {
        "id": "-8DFebGN_XOQ"
      },
      "outputs": [],
      "source": [
        "# importing libraries\n",
        "import pandas as pd\n",
        "import matplotlib.pylab as plt\n",
        "import numpy as np\n",
        "from scipy.stats import ttest_ind"
      ]
    },
    {
      "cell_type": "markdown",
      "source": [
        "#### **Exercise 3.1**\n",
        "\n",
        "First, we have to load two data files. One file depicts the normalize gene counts (`normalized_counts.csv`) and the other file the so-called experimental design (`experiment_design.txt`). \n",
        "The two files contain the following information:\n",
        "- Experimental design\n",
        "  - `Run`: ID for every separate patient.\n",
        "  - `disease`: gives information if the patient was healthy (`normal`) or affected (`Tetralogy of Fallot`).\n",
        "  - `Gene ID`: Separate identifier for every separate gene.\n",
        "  - `Gene Name`\n",
        "  - `Gene ID`\n",
        "  - `Gene Name`: depicting all measured genes\n",
        "  - Multiple columns starting with `SR...`: ID for every separate patient with ofcourse the corresponding gene count.\n",
        "\n",
        "Both files contain more information that we will not use for this assignment, but you can have a look if you are interested :)\n",
        "\n",
        "In order to work with the data we have to combine the two files.\n",
        "\n",
        "Run the following code block and answer the following questions:\n",
        "\n",
        "1. What does the function `pd.read_csv()` do? Why do we use the argument `sep = '\\t'` for one file and not for the other?\n",
        "2. What does the function `pd.melt()` do? Why do you think we need to do that?\n",
        "3. What does the function `pd.merge()` do? Why do we merge on the column `Run` (patient ID)?. \n",
        "\n",
        "*hint: Look at the documentation for the suggested functions to know how to use them.*"
      ],
      "metadata": {
        "id": "oy_jEwTlxZmU"
      }
    },
    {
      "cell_type": "code",
      "source": [
        "# 1. Reading files\n",
        "df_ = pd.read_csv('normalized_counts.csv')\n",
        "design = pd.read_csv('experiment_design.txt', sep='\\t')[['Run', 'disease']]\n",
        "\n",
        "# 2. Transforming file into long format\n",
        "df_ = df_.melt(id_vars=['Gene ID', 'Gene Name'], var_name='Run', value_name='geneCount')\n",
        "\n",
        "# 3. and 4. Merging and selection of columns\n",
        "df = df_.merge(design, on='Run')[['Gene ID', 'Gene Name', 'Run', 'geneCount', 'disease']]"
      ],
      "metadata": {
        "id": "aDKus1uFtqFk"
      },
      "execution_count": null,
      "outputs": []
    },
    {
      "cell_type": "markdown",
      "source": [
        "#### **Exercise 3.2**\n",
        "\n",
        "Now we have to clean up the data a bit and filter out low gene counts. We do the following:\n",
        "\n",
        "1. Remove the rows in the dataframe that contain \"NaN\" values for the column `geneCount`.\n",
        "2. Remove the genes that have a **total sum** gene count under 100.000\n",
        "\n",
        "If you run the following code it will return an error of a missing variable. Locate the missing variable and assign the correct value."
      ],
      "metadata": {
        "id": "2EE-oAV8xwGl"
      }
    },
    {
      "cell_type": "code",
      "source": [
        "# 1. Removing NaN values\n",
        "df = df[df.geneCount.notna()]\n",
        "\n",
        "# Insert missing variable here:\n",
        "\n",
        "# 2. Remove genes with low gene count\n",
        "sel = df.groupby('Gene Name', as_index=False).sum()\n",
        "sel = sel[sel.geneCount >= gene_count_threshold]['Gene Name']\n",
        "df = df[df['Gene Name'].isin(sel)]\n",
        "len(df)"
      ],
      "metadata": {
        "id": "248z7utgJ69q",
        "colab": {
          "base_uri": "https://localhost:8080/"
        },
        "outputId": "e20619ba-2a85-44ec-bb3e-e06cc0db712b"
      },
      "execution_count": null,
      "outputs": [
        {
          "output_type": "execute_result",
          "data": {
            "text/plain": [
              "8033"
            ]
          },
          "metadata": {},
          "execution_count": 110
        }
      ]
    },
    {
      "cell_type": "markdown",
      "source": [
        "#### **Exercise 3.3**\n",
        "\n",
        "Complete the missing parts in the following code block. The function is supposed to return the following two measures:\n",
        "\n",
        "Complete the code after the comment blocks for:\n",
        "\n",
        "1. Calculate the foldchange by taking the mean of `tof` and dividing it by the mean of `norm`. Store this into a new variable `fc`. *Hint: you can use the function `np.mean()` if you want to calculate the average.\n",
        "2. The function `ttest_ind()` calculates the statistical difference between two conditions and returns the z-statistic and p-value. One of the conditions has already been filled in, but the other condition is missing after the comma. Fill in the missing condition after the comma.\n",
        "3. Before you can store your foldchange and p-value you need to transform both as follows:\n",
        "  - $log_{2} (FoldChange)$\n",
        "  - $-log_{10} (P value)$\n",
        "\n",
        "*Hint: You can use the functions `np.log2` and `np.log10` for the log transforms*"
      ],
      "metadata": {
        "id": "BOYv6dE7vTKe"
      }
    },
    {
      "cell_type": "code",
      "source": [
        "def p_val(x):\n",
        "\n",
        "    # Selecting the both disease conditions\n",
        "    tof = x[x.disease == 'Tetralogy of Fallot']['geneCount']\n",
        "    norm = x[x.disease == 'normal']['geneCount']\n",
        "\n",
        "    ## INSERT CODE HERE (1):\n",
        "    fc = \n",
        "    \n",
        "    ## INSERT CODE HERE (2):\n",
        "    z, p = ttest_ind(norm, )\n",
        "\n",
        "    ## INSERT CODE HERE (3):\n",
        "    x['foldChange'] = \n",
        "    x['pValue'] = \n",
        "\n",
        "    # Return your new results\n",
        "    return x"
      ],
      "metadata": {
        "id": "AVafFG7JtzCZ"
      },
      "execution_count": null,
      "outputs": []
    },
    {
      "cell_type": "markdown",
      "source": [
        "#### **Exercise 3.4**\n",
        "\n",
        "Next step is to apply the function to the dataframe, we want to calculate the p-value and foldchange for every separate gene. There is a convenient function for this in pandas called `groupby()`. Next, we can apply the function to the dataframe by using the function `apply()`. It's important to perform these function in this order, can you think of why?\n",
        "\n",
        "Assign the correct column name to the variable `grouping`.\n",
        "\n",
        "*Hint: Look at all the column names we have, which one makes the most sense?*"
      ],
      "metadata": {
        "id": "0iIo8q8q3Vf1"
      }
    },
    {
      "cell_type": "code",
      "source": [
        "grouping =\n",
        "df = df.groupby(grouping, as_index=False).apply(lambda x: p_val(x))"
      ],
      "metadata": {
        "id": "mM8MtlzEt2Wh"
      },
      "execution_count": null,
      "outputs": []
    },
    {
      "cell_type": "markdown",
      "source": [
        "#### **Exercise 3.5**\n",
        "\n",
        "Now we come to the most fun part, plotting our results! In the following line you can see two parameters:\n",
        "\n",
        "- `fc_b`: this depicts the cut-off value for the $log_{2}(foldchange)$. This means that you will only see the Gene names appear that are either smaller than `-fc_b` or larger than `fc_b`.\n",
        "- `alpha`: The probability of incorrectly rejecting a true null hypothesis. We want our p-value to be smaller to be able to say that our two conditions are significantly different. By convention the value of 0.05 is most used for the alpha.\n",
        "\n",
        "Play around with both parameters and run both blocks of code to see what happens.\n",
        "\n",
        "When you have a nice collection of genes try to write a small report if the found genes make sense regarding the disease."
      ],
      "metadata": {
        "id": "MGGJgpzM9dM3"
      }
    },
    {
      "cell_type": "code",
      "source": [
        "fc_b = \n",
        "alpha = "
      ],
      "metadata": {
        "id": "X3azfQ-Ct4zM"
      },
      "execution_count": null,
      "outputs": []
    },
    {
      "cell_type": "code",
      "source": [
        "# Initialize figure\n",
        "plt.figure(figsize=(9,6))\n",
        "\n",
        "# log transform the alpha value\n",
        "p_b = -np.log10(alpha)\n",
        "\n",
        "# Start with plotting all points\n",
        "plt.scatter(x=df['foldChange'], y=df['pValue'], s=1, label=\"Not significant\")\n",
        "\n",
        "# highlight down- or up- regulated genes\n",
        "down = df[(df['foldChange'] <= -fc_b) & (df['pValue'] >= p_b)]\n",
        "up = df[(df['foldChange'] >= fc_b) & (df['pValue'] >= p_b)]\n",
        "plt.scatter(x=down['foldChange'], y=down['pValue'],s=3, label=\"Down-regulated\",color=\"blue\")\n",
        "plt.scatter(x=up['foldChange'], y=up['pValue'], s=3, label=\"Up-regulated\",color=\"red\")\n",
        "\n",
        "# Add text to highlighted genes\n",
        "for i, r in up.iterrows():\n",
        "    plt.text(x=r['foldChange'], y=r['pValue'], s=r['Gene Name'])\n",
        "    \n",
        "for i, r in down.iterrows():\n",
        "    plt.text(x=r['foldChange'], y=r['pValue'], s=r['Gene Name'])\n",
        "\n",
        "# Plot layout\n",
        "plt.xlabel(\"log2 FC\")\n",
        "plt.ylabel(\"-log10 p-value\")\n",
        "plt.axvline(-fc_b, color=\"grey\",linestyle=\"--\")\n",
        "plt.axvline(fc_b, color=\"grey\",linestyle=\"--\")\n",
        "plt.axhline(p_b, color=\"grey\",linestyle=\"--\")\n",
        "plt.legend()"
      ],
      "metadata": {
        "id": "AkoAxwBzt69u"
      },
      "execution_count": 4,
      "outputs": []
    },
    {
      "cell_type": "markdown",
      "source": [
        "References:\n",
        "\n",
        "1. American Heart Association. (2022). Tetralogy of Fallot. Retrieved from https://www.heart.org/en/health-topics/congenital-heart-defects/about-congenital-heart-defects/tetralogy-of-fallot\n",
        "2. Centers for Disease Control and Prevention. (2022). Facts about Tetralogy of Fallot. Retrieved from https://www.cdc.gov/ncbddd/heartdefects/tetralogyoffallot.html\n",
        "4. Mayo Clinic. (2022). Tetralogy of Fallot. Retrieved from https://www.mayoclinic.org/diseases-conditions/tetralogy-of-fallot/symptoms-causes/syc-20353477\n",
        "4. Mocarski, M., & Bilek, L. (2021). Tetralogy of Fallot. StatPearls [Internet]. Retrieved from https://www.ncbi.nlm.nih.gov/books/NBK513263/\n",
        "5. Expression Atlas (EMBI-EBI). Retrieved from https://www.ebi.ac.uk/gxa/home\n",
        "6. Grunert M, Dorn C, Schueler M, Dunkel I, Schlesinger J et al. (2014) Rare and private variations in neural crest, apoptosis and sarcomere genes define the polygenic background of isolated Tetralogy of Fallot.\n"
      ],
      "metadata": {
        "id": "RkAzyMws_g0K"
      }
    }
  ]
}